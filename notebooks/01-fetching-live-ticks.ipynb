{
 "cells": [
  {
   "cell_type": "markdown",
   "id": "1161a99c-570d-4285-a8f5-fa1e46036cdf",
   "metadata": {},
   "source": [
    "[![Open In Colab](https://colab.research.google.com/assets/colab-badge.svg)](https://colab.research.google.com/github/finaptick/finaptick-udemy-course/blob/main/notebooks/01-fetching-live-ticks.ipynb)\n"
   ]
  },
  {
   "cell_type": "code",
   "execution_count": 1,
   "id": "607bbbd0-65ee-4cb1-afbc-f438b58078b3",
   "metadata": {},
   "outputs": [
    {
     "name": "stdout",
     "output_type": "stream",
     "text": [
      "Requirement already satisfied: MetaTrader5 in c:\\users\\administrator\\appcenter\\deriv\\.venv\\lib\\site-packages (5.0.4738)\n",
      "Requirement already satisfied: nest_asyncio in c:\\users\\administrator\\appcenter\\deriv\\.venv\\lib\\site-packages (1.6.0)\n",
      "Requirement already satisfied: numpy>=1.7 in c:\\users\\administrator\\appcenter\\deriv\\.venv\\lib\\site-packages (from MetaTrader5) (2.2.0)\n"
     ]
    }
   ],
   "source": [
    "!pip install MetaTrader5 nest_asyncio"
   ]
  },
  {
   "cell_type": "code",
   "execution_count": null,
   "id": "da95fc92-88ae-4791-880f-fbe366a19c74",
   "metadata": {},
   "outputs": [],
   "source": [
    "# Title: Fetching Live Tick Data with MetaTrader 5\n",
    "# Author: François Modeste, CEO FINAPTICK\n",
    "# Date: [Insert Date]\n",
    "\n",
    "import MetaTrader5 as mt5\n",
    "import logging\n",
    "from datetime import datetime\n",
    "import asyncio\n",
    "import nest_asyncio\n",
    "\n",
    "# Apply nest_asyncio to allow nested event loops\n",
    "nest_asyncio.apply()\n",
    "\n",
    "# Configure logging\n",
    "logging.basicConfig(level=logging.INFO, format='%(asctime)s - %(levelname)s - %(message)s')\n",
    "\n",
    "# Define the symbols to monitor\n",
    "symbols = [\"BTCUSD\"]  # Replace with your preferred symbols\n",
    "\n",
    "# Replace these with your MetaTrader 5 credentials\n",
    "LOGIN = 40337945\n",
    "PASSWORD = \"#Moses19722$\"\n",
    "SERVER = \"Deriv-Demo\"\n",
    "\n",
    "# Initialize the MT5 connection\n",
    "if not mt5.initialize(login=LOGIN, password=PASSWORD, server=SERVER):\n",
    "    logging.error(\"Failed to initialize MetaTrader 5\")\n",
    "    mt5.shutdown()\n",
    "    exit()\n",
    "\n",
    "logging.info(\"Successfully connected to MetaTrader 5\")\n",
    "\n",
    "# Function to fetch live tick data\n",
    "async def fetch_live_ticks(symbols):\n",
    "    while True:\n",
    "        for symbol in symbols:\n",
    "            tick = mt5.symbol_info_tick(symbol)\n",
    "            if tick is not None:\n",
    "                logging.info(f\"Tick: Symbol: {symbol}, Time: {datetime.fromtimestamp(tick.time)}, Bid: {tick.bid}, Ask: {tick.ask}\")\n",
    "            else:\n",
    "                logging.error(f\"Failed to get tick data for {symbol}\")\n",
    "        await asyncio.sleep(1)\n",
    "\n",
    "# Main function to run the script\n",
    "async def main():\n",
    "    tasks = [\n",
    "        asyncio.create_task(fetch_live_ticks(symbols))\n",
    "    ]\n",
    "    await asyncio.gather(*tasks)\n",
    "\n",
    "if __name__ == \"__main__\":\n",
    "    asyncio.run(main())"
   ]
  },
  {
   "cell_type": "code",
   "execution_count": null,
   "id": "9ea29029-1423-47aa-87a8-b592272cc58a",
   "metadata": {},
   "outputs": [],
   "source": [
    "# Title: Fetching Live Tick Data with MetaTrader 5\n",
    "# Author: François Modeste, CEO FINAPTICK\n",
    "# Date: [Insert Date]\n",
    "\n",
    "import MetaTrader5 as mt5\n",
    "import logging\n",
    "from datetime import datetime\n",
    "import time\n",
    "\n",
    "# Configure logging\n",
    "logging.basicConfig(level=logging.INFO, format='%(asctime)s - %(levelname)s - %(message)s')\n",
    "\n",
    "# Define the symbols to monitor\n",
    "symbols = [\"BTCUSD\"]  # Replace with your preferred symbols\n",
    "\n",
    "# Replace these with your MetaTrader 5 credentials\n",
    "LOGIN = 40337945\n",
    "PASSWORD = \"#Moses19722$\"\n",
    "SERVER = \"Deriv-Demo\"\n",
    "\n",
    "# Initialize the MT5 connection\n",
    "if not mt5.initialize(login=LOGIN, password=PASSWORD, server=SERVER):\n",
    "    logging.error(\"Failed to initialize MetaTrader 5\")\n",
    "    mt5.shutdown()\n",
    "    exit()\n",
    "\n",
    "logging.info(\"Successfully connected to MetaTrader 5\")\n",
    "\n",
    "# Function to fetch live tick data\n",
    "def fetch_live_ticks(symbols):\n",
    "    while True:\n",
    "        for symbol in symbols:\n",
    "            tick = mt5.symbol_info_tick(symbol)\n",
    "            if tick is not None:\n",
    "                logging.info(f\"Tick: Symbol: {symbol}, Time: {datetime.fromtimestamp(tick.time)}, Bid: {tick.bid}, Ask: {tick.ask}\")\n",
    "            else:\n",
    "                logging.error(f\"Failed to get tick data for {symbol}\")\n",
    "        time.sleep(1)\n",
    "\n",
    "# Main function to run the script\n",
    "def main():\n",
    "    fetch_live_ticks(symbols)\n",
    "\n",
    "if __name__ == \"__main__\":\n",
    "    main()"
   ]
  },
  {
   "cell_type": "code",
   "execution_count": null,
   "id": "7d75a571-0f05-4f09-a49f-8cf7881ed262",
   "metadata": {},
   "outputs": [],
   "source": []
  }
 ],
 "metadata": {
  "kernelspec": {
   "display_name": "Python 3 (ipykernel)",
   "language": "python",
   "name": "python3"
  },
  "language_info": {
   "codemirror_mode": {
    "name": "ipython",
    "version": 3
   },
   "file_extension": ".py",
   "mimetype": "text/x-python",
   "name": "python",
   "nbconvert_exporter": "python",
   "pygments_lexer": "ipython3",
   "version": "3.13.1"
  }
 },
 "nbformat": 4,
 "nbformat_minor": 5
}
